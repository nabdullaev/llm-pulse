{
 "cells": [
  {
   "cell_type": "code",
   "execution_count": null,
   "metadata": {},
   "outputs": [],
   "source": [
    "!pip install tweepy"
   ]
  },
  {
   "cell_type": "code",
   "execution_count": null,
   "metadata": {},
   "outputs": [],
   "source": [
    "import os\n",
    "import tweepy as tw\n",
    "import pandas as pd\n",
    "from tqdm import tqdm, notebook\n",
    "\n",
    "pd.set_option('display.max_columns', None)\n",
    "pd.set_option('display.max_rows', None)\n",
    "pd.set_option('display.max_colwidth', None)\n",
    "pd.set_option('display.width', None)"
   ]
  },
  {
   "cell_type": "code",
   "execution_count": null,
   "metadata": {},
   "outputs": [],
   "source": [
    "from kaggle_secrets import UserSecretsClient\n",
    "user_secrets = UserSecretsClient()\n",
    "consumer_api_key = user_secrets.get_secret(\"twitter_api_key\")\n",
    "consumer_api_secret = user_secrets.get_secret(\"twitter_api_key_secret Secret\")"
   ]
  },
  {
   "cell_type": "code",
   "execution_count": null,
   "metadata": {},
   "outputs": [],
   "source": [
    "howmany = 10000"
   ]
  },
  {
   "cell_type": "code",
   "execution_count": null,
   "metadata": {},
   "outputs": [],
   "source": [
    "keywords = [\"#ChatGPT\", \"#GPT3\", \"#GPT\", \"#LLMs\", \"#Llama\", \"#LLM\" \"#GPT4\",  \"#GPTs\", \"#StableLM\",\n",
    "           \"#Bard\", \"#GPTNeo\", \"#autogpt\", \"#langchain\", \"#vicuna\", \"#Bing\"]"
   ]
  },
  {
   "cell_type": "code",
   "execution_count": null,
   "metadata": {},
   "outputs": [],
   "source": [
    "auth = tw.OAuthHandler(consumer_api_key, consumer_api_secret)\n",
    "\n",
    "api = tw.API(auth, wait_on_rate_limit=True)"
   ]
  },
  {
   "cell_type": "code",
   "execution_count": null,
   "metadata": {},
   "outputs": [],
   "source": [
    "from datetime import datetime\n",
    "from dateutil.relativedelta import relativedelta\n",
    "\n",
    "# minus a month\n",
    "currentTimeDate = datetime.now() - relativedelta(days=1)\n",
    "currentTime = currentTimeDate.strftime('%Y-%m-%d')\n",
    "print(currentTime)"
   ]
  },
  {
   "cell_type": "code",
   "execution_count": null,
   "metadata": {},
   "outputs": [],
   "source": [
    "tweets_df = pd.DataFrame()\n",
    "\n",
    "for kw in keywords: \n",
    "    search_words = kw + \" -filter:retweets\"\n",
    "    date_since = str(currentTime)\n",
    "\n",
    "    # Collect tweets\n",
    "    tweets = tw.Cursor(api.search_tweets,\n",
    "                  q=search_words,\n",
    "                  lang=\"en\",\n",
    "                since=date_since).items(howmany)\n",
    "\n",
    "    tweets_copy = []\n",
    "    for tweet in tqdm(tweets):\n",
    "         tweets_copy.append(tweet)\n",
    "\n",
    "    tweets_df1 = pd.DataFrame()\n",
    "    for tweet in tqdm(tweets_copy):\n",
    "        hashtags = []\n",
    "        try:\n",
    "            for hashtag in tweet.entities[\"hashtags\"]:\n",
    "                hashtags.append(hashtag[\"text\"])\n",
    "            text = api.get_status(id=tweet.id, tweet_mode='extended').full_text\n",
    "        except:\n",
    "            pass\n",
    "        tweets_df1 = tweets_df1.append(pd.DataFrame({'user_name': tweet.user.name, \n",
    "                                                'text': text, \n",
    "                                               'user_location': tweet.user.location,\n",
    "                                               'user_description': tweet.user.description,\n",
    "                                               'user_created': tweet.user.created_at,\n",
    "                                               'user_followers': tweet.user.followers_count,\n",
    "                                               'user_friends': tweet.user.friends_count,\n",
    "                                               'user_favourites': tweet.user.favourites_count,\n",
    "                                               'user_verified': tweet.user.verified,\n",
    "                                               'date': tweet.created_at,\n",
    "                                                'hashtags': [hashtags if hashtags else None],\n",
    "                                               'source': tweet.source,\n",
    "                                              # 'is_retweet': tweet.retweeted\n",
    "                                             }\n",
    "                                                  , index=[0]))\n",
    "    tweets_df = pd.concat([tweets_df, tweets_df1], axis = 0)\n",
    "    print(tweets_df.shape)"
   ]
  },
  {
   "cell_type": "code",
   "execution_count": null,
   "metadata": {},
   "outputs": [],
   "source": [
    "tweets_df.to_csv('data/tweets.csv', index = False)"
   ]
  }
 ],
 "metadata": {
  "language_info": {
   "name": "python"
  }
 },
 "nbformat": 4,
 "nbformat_minor": 2
}
